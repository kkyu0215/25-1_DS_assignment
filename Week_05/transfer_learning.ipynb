{
  "cells": [
    {
      "cell_type": "markdown",
      "metadata": {
        "id": "BOlo4Ctmtm4p"
      },
      "source": [
        "# Transfer Learning Assignment\n",
        "반갑습니다 여러분. 과제를 맡은 김준호입니다. TL 세션에서 다룬 Fine-tuning과 Domain Adaptation을 직접 구현해 봅시다."
      ]
    },
    {
      "cell_type": "markdown",
      "metadata": {
        "id": "qWlAlAeRtm4s"
      },
      "source": [
        "Office-31은 여러 실습에서 자주 등장하는 이미지 데이터셋입니다. Amazon, Webcam, DSLR 세 개의 도메인으로 구성되어 있는데요. \n",
        "\n",
        "총 31개 클래스 (키보드, 마우스, 모니터 등)의 사무용품 이미지가 있고,각 도메인마다 같은 클래스가 포함되어 있지만 도메인마다 이미지 특성은 다릅니다. \n",
        "\n",
        "그래서 이런 transfer learning 실습에 적합하다고 볼 수 있습니다."
      ]
    },
    {
      "cell_type": "code",
      "execution_count": 3,
      "metadata": {
        "id": "6R098oQTS_TC"
      },
      "outputs": [],
      "source": [
        "import os\n",
        "import torch\n",
        "import torchvision\n",
        "from torchvision import transforms, datasets\n",
        "import torch.nn as nn\n",
        "import time\n",
        "from torchvision import models\n",
        "import numpy as np\n",
        "torch.cuda.set_device(0)"
      ]
    },
    {
      "cell_type": "markdown",
      "metadata": {
        "id": "K9Ut17hwUDq-"
      },
      "source": [
        "amazon을 source로, webcam을 target data로 이용해 봅시다."
      ]
    },
    {
      "cell_type": "code",
      "execution_count": 4,
      "metadata": {
        "id": "j4e--IIRU68M"
      },
      "outputs": [],
      "source": [
        "data_folder = '../OFFICE31'\n",
        "batch_size = 32\n",
        "n_class = 31\n",
        "domain_src, domain_tar = 'amazon', 'webcam'"
      ]
    },
    {
      "cell_type": "markdown",
      "metadata": {
        "id": "XA6e2YaPtm4u"
      },
      "source": [
        "source와 target domain에 대한 DataLoader를 생성하고 load해 줍시다."
      ]
    },
    {
      "cell_type": "code",
      "execution_count": 5,
      "metadata": {
        "id": "6JtN_bK9VFcM"
      },
      "outputs": [],
      "source": [
        "def load_data(root_path, domain, batch_size, phase):\n",
        "    transform_dict = {\n",
        "        'src': transforms.Compose(\n",
        "        [transforms.RandomResizedCrop(224),\n",
        "         transforms.RandomHorizontalFlip(),\n",
        "         transforms.ToTensor(),\n",
        "         transforms.Normalize(mean=[0.485, 0.456, 0.406],\n",
        "                              std=[0.229, 0.224, 0.225]),\n",
        "         ]),\n",
        "        'tar': transforms.Compose(\n",
        "        [transforms.Resize(224),\n",
        "         transforms.ToTensor(),\n",
        "         transforms.Normalize(mean=[0.485, 0.456, 0.406],\n",
        "                              std=[0.229, 0.224, 0.225]),\n",
        "         ])}\n",
        "    data = datasets.ImageFolder(root=os.path.join(root_path, domain), transform=transform_dict[phase])\n",
        "    data_loader = torch.utils.data.DataLoader(data, batch_size=batch_size, shuffle=phase=='src', drop_last=phase=='tar', num_workers=4)\n",
        "    return data_loader"
      ]
    },
    {
      "cell_type": "code",
      "execution_count": 6,
      "metadata": {
        "id": "Jf_Gw2HRVJM_"
      },
      "outputs": [
        {
          "name": "stdout",
          "output_type": "stream",
          "text": [
            "Source data number: 2817\n",
            "Target data number: 795\n"
          ]
        }
      ],
      "source": [
        "src_loader = load_data(data_folder, domain_src, batch_size, phase='src')\n",
        "tar_loader = load_data(data_folder, domain_tar, batch_size, phase='tar')\n",
        "print(f'Source data number: {len(src_loader.dataset)}')\n",
        "print(f'Target data number: {len(tar_loader.dataset)}')"
      ]
    },
    {
      "cell_type": "markdown",
      "metadata": {
        "id": "caKMn438tm4v"
      },
      "source": [
        "# Fine-tuning"
      ]
    },
    {
      "cell_type": "markdown",
      "metadata": {},
      "source": [
        "Pre-trained ResNet50을 기반으로 한 간단한 TransferModel을 정의합니다. 여기서 모델 구조는 유지하되 마지막 fc layer만 새롭게 학습되도록 구성합니다."
      ]
    },
    {
      "cell_type": "code",
      "execution_count": 7,
      "metadata": {
        "id": "OXAjmY7pVK8t"
      },
      "outputs": [],
      "source": [
        "class TransferModel(nn.Module):\n",
        "    def __init__(self,\n",
        "                base_model : str = 'resnet50',\n",
        "                pretrain : bool = True,\n",
        "                n_class : int = 31):\n",
        "        super(TransferModel, self).__init__()\n",
        "        self.base_model = base_model\n",
        "        self.pretrain = pretrain\n",
        "        self.n_class = n_class\n",
        "        if self.base_model == 'resnet50':\n",
        "            self.model = self.model = models.resnet50(pretrained=self.pretrain) # TODO: pre-trained model 불러오기\n",
        "            n_features = self.model.fc.in_features\n",
        "            fc = nn.Linear(n_features, self.n_class) # TODO: 새로운 fc layer를 정의\n",
        "            self.model.fc = fc # TODO: 모델의 fc layer를 새로운 fc로 교체\n",
        "        else:\n",
        "            # Use other models you like, such as vgg or alexnet\n",
        "            pass\n",
        "        self.model.fc.weight.data.normal_(0, 0.005)\n",
        "        self.model.fc.bias.data.fill_(0.1)\n",
        "\n",
        "    def forward(self, x):\n",
        "        return self.model(x)\n",
        "    \n",
        "    def predict(self, x):\n",
        "        return self.forward(x)"
      ]
    },
    {
      "cell_type": "markdown",
      "metadata": {
        "id": "UAqT-0jRtm4w"
      },
      "source": [
        "모델이 정상적으로 작동하는지 random tensor로 테스트해 봅시다."
      ]
    },
    {
      "cell_type": "code",
      "execution_count": 8,
      "metadata": {
        "id": "LewRmYIvXEIo"
      },
      "outputs": [
        {
          "name": "stderr",
          "output_type": "stream",
          "text": [
            "/root/miniconda3/lib/python3.12/site-packages/torchvision/models/_utils.py:208: UserWarning: The parameter 'pretrained' is deprecated since 0.13 and may be removed in the future, please use 'weights' instead.\n",
            "  warnings.warn(\n",
            "/root/miniconda3/lib/python3.12/site-packages/torchvision/models/_utils.py:223: UserWarning: Arguments other than a weight enum or `None` for 'weights' are deprecated since 0.13 and may be removed in the future. The current behavior is equivalent to passing `weights=ResNet50_Weights.IMAGENET1K_V1`. You can also use `weights=ResNet50_Weights.DEFAULT` to get the most up-to-date weights.\n",
            "  warnings.warn(msg)\n"
          ]
        },
        {
          "name": "stdout",
          "output_type": "stream",
          "text": [
            "tensor([[ 0.0077,  0.0714,  0.0273,  0.0321, -0.0160,  0.1033,  0.2787,  0.0501,\n",
            "         -0.0704, -0.0713,  0.1733,  0.1455,  0.1300,  0.1486,  0.3425,  0.0303,\n",
            "          0.1880,  0.1402, -0.0257,  0.1523,  0.1009,  0.2911,  0.1974,  0.1212,\n",
            "          0.1532, -0.0156,  0.0581, -0.0749,  0.0484, -0.0359,  0.0706]],\n",
            "       device='cuda:0', grad_fn=<AddmmBackward0>)\n",
            "torch.Size([1, 31])\n"
          ]
        }
      ],
      "source": [
        "model = TransferModel().cuda()\n",
        "RAND_TENSOR = torch.randn(1, 3, 224, 224).cuda()\n",
        "output = model(RAND_TENSOR)\n",
        "print(output)\n",
        "print(output.shape)"
      ]
    },
    {
      "cell_type": "markdown",
      "metadata": {
        "id": "UpX-fuiXtm4w"
      },
      "source": [
        "## Finetune ResNet-50"
      ]
    },
    {
      "cell_type": "markdown",
      "metadata": {
        "id": "0uNeAiPatm4w"
      },
      "source": [
        "Office-31 dataset은 validation set이 따로 없으므로, validation set으로 target domain을 이용해 줍시다.\n",
        "\n",
        "fine-tuning을 위한 학습 및 평가 함수를 정의합니다.\n",
        "학습은 source domain에서 수행하고 target domain에서 검증합니다."
      ]
    },
    {
      "cell_type": "code",
      "execution_count": 9,
      "metadata": {
        "id": "h74gKIVqtm4w"
      },
      "outputs": [],
      "source": [
        "dataloaders = {'src': src_loader,\n",
        "               'val': tar_loader,\n",
        "               'tar': tar_loader}\n",
        "n_epoch = 100\n",
        "criterion = nn.CrossEntropyLoss()\n",
        "early_stop = 20"
      ]
    },
    {
      "cell_type": "code",
      "execution_count": 10,
      "metadata": {
        "id": "-fz_FlAIXsTF"
      },
      "outputs": [],
      "source": [
        "def finetune(model, dataloaders, optimizer):\n",
        "    since = time.time()\n",
        "    best_acc = 0\n",
        "    stop = 0\n",
        "    for epoch in range(0, n_epoch):\n",
        "        stop += 1\n",
        "        # You can uncomment this line for scheduling learning rate\n",
        "        # lr_schedule(optimizer, epoch)\n",
        "        for phase in ['src', 'val', 'tar']:\n",
        "            if phase == 'src':\n",
        "                model.train()\n",
        "            else:\n",
        "                model.eval()\n",
        "            total_loss, correct = 0, 0\n",
        "            for inputs, labels in dataloaders[phase]:\n",
        "                inputs, labels = inputs.cuda(), labels.cuda()\n",
        "                optimizer.zero_grad()\n",
        "                with torch.set_grad_enabled(phase == 'src'):\n",
        "                    outputs = model(inputs)\n",
        "                    loss = criterion(outputs, labels)\n",
        "                preds = torch.max(outputs, 1)[1]\n",
        "                if phase == 'src':\n",
        "                    loss.backward()\n",
        "                    optimizer.step()\n",
        "                total_loss += loss.item() * inputs.size(0)\n",
        "                correct += torch.sum(preds == labels.data)\n",
        "            epoch_loss = total_loss / len(dataloaders[phase].dataset)\n",
        "            epoch_acc = correct.double() / len(dataloaders[phase].dataset)\n",
        "            print(f'Epoch: [{epoch:02d}/{n_epoch:02d}]---{phase}, loss: {epoch_loss:.6f}, acc: {epoch_acc:.4f}')\n",
        "            if phase == 'val' and epoch_acc > best_acc:\n",
        "                stop = 0\n",
        "                best_acc = epoch_acc\n",
        "                torch.save(model.state_dict(), 'model.pkl')\n",
        "        if stop >= early_stop:\n",
        "            break\n",
        "        print()\n",
        "   \n",
        "    time_pass = time.time() - since\n",
        "    print(f'Training complete in {time_pass // 60:.0f}m {time_pass % 60:.0f}s')"
      ]
    },
    {
      "cell_type": "markdown",
      "metadata": {
        "id": "rGUZGrm7tm4x"
      },
      "source": [
        "이제 학습 파라미터들과 optimizer를 정의합니다.\n",
        "간단하게 SGD optimizer를 사용하고 fc layer의 학습률을 다른 layer보다 10배 크게 설정합니다."
      ]
    },
    {
      "cell_type": "code",
      "execution_count": 11,
      "metadata": {
        "id": "HGVIu0JXZaGT"
      },
      "outputs": [],
      "source": [
        "param_group = []\n",
        "learning_rate = 0.0001\n",
        "momentum = 5e-4\n",
        "for k, v in model.named_parameters():\n",
        "    if not k.__contains__('fc'):\n",
        "        param_group += [{'params': v, 'lr': learning_rate}]\n",
        "    else:\n",
        "        param_group += [{'params': v, 'lr': learning_rate * 10}]\n",
        "optimizer = torch.optim.SGD(param_group, momentum=momentum)"
      ]
    },
    {
      "cell_type": "markdown",
      "metadata": {
        "id": "F7zGR_PFtm4y"
      },
      "source": [
        "## Train and test"
      ]
    },
    {
      "cell_type": "code",
      "execution_count": 12,
      "metadata": {
        "id": "uKKrah-AZsHt"
      },
      "outputs": [
        {
          "name": "stdout",
          "output_type": "stream",
          "text": [
            "Epoch: [00/100]---src, loss: 3.360622, acc: 0.1232\n",
            "Epoch: [00/100]---val, loss: 3.178413, acc: 0.2025\n",
            "Epoch: [00/100]---tar, loss: 3.178413, acc: 0.2025\n",
            "\n",
            "Epoch: [01/100]---src, loss: 3.231940, acc: 0.3646\n",
            "Epoch: [01/100]---val, loss: 3.057479, acc: 0.1182\n",
            "Epoch: [01/100]---tar, loss: 3.057479, acc: 0.1182\n",
            "\n",
            "Epoch: [02/100]---src, loss: 3.104307, acc: 0.4111\n",
            "Epoch: [02/100]---val, loss: 2.926611, acc: 0.3874\n",
            "Epoch: [02/100]---tar, loss: 2.926611, acc: 0.3874\n",
            "\n",
            "Epoch: [03/100]---src, loss: 2.988184, acc: 0.5190\n",
            "Epoch: [03/100]---val, loss: 2.814510, acc: 0.4113\n",
            "Epoch: [03/100]---tar, loss: 2.814510, acc: 0.4113\n",
            "\n",
            "Epoch: [04/100]---src, loss: 2.864881, acc: 0.5641\n",
            "Epoch: [04/100]---val, loss: 2.718542, acc: 0.5950\n",
            "Epoch: [04/100]---tar, loss: 2.718542, acc: 0.5950\n",
            "\n",
            "Epoch: [05/100]---src, loss: 2.735779, acc: 0.6226\n",
            "Epoch: [05/100]---val, loss: 2.582421, acc: 0.6252\n",
            "Epoch: [05/100]---tar, loss: 2.582421, acc: 0.6252\n",
            "\n",
            "Epoch: [06/100]---src, loss: 2.623093, acc: 0.6216\n",
            "Epoch: [06/100]---val, loss: 2.474587, acc: 0.6314\n",
            "Epoch: [06/100]---tar, loss: 2.474587, acc: 0.6314\n",
            "\n",
            "Epoch: [07/100]---src, loss: 2.514986, acc: 0.6294\n",
            "Epoch: [07/100]---val, loss: 2.390111, acc: 0.5824\n",
            "Epoch: [07/100]---tar, loss: 2.390111, acc: 0.5824\n",
            "\n",
            "Epoch: [08/100]---src, loss: 2.411239, acc: 0.6461\n",
            "Epoch: [08/100]---val, loss: 2.290664, acc: 0.5962\n",
            "Epoch: [08/100]---tar, loss: 2.290664, acc: 0.5962\n",
            "\n",
            "Epoch: [09/100]---src, loss: 2.293659, acc: 0.6581\n",
            "Epoch: [09/100]---val, loss: 2.172683, acc: 0.6692\n",
            "Epoch: [09/100]---tar, loss: 2.172683, acc: 0.6692\n",
            "\n",
            "Epoch: [10/100]---src, loss: 2.202734, acc: 0.6670\n",
            "Epoch: [10/100]---val, loss: 2.117769, acc: 0.6491\n",
            "Epoch: [10/100]---tar, loss: 2.117769, acc: 0.6491\n",
            "\n",
            "Epoch: [11/100]---src, loss: 2.104739, acc: 0.6784\n",
            "Epoch: [11/100]---val, loss: 2.009619, acc: 0.6654\n",
            "Epoch: [11/100]---tar, loss: 2.009619, acc: 0.6654\n",
            "\n",
            "Epoch: [12/100]---src, loss: 2.016747, acc: 0.6802\n",
            "Epoch: [12/100]---val, loss: 1.919757, acc: 0.6717\n",
            "Epoch: [12/100]---tar, loss: 1.919757, acc: 0.6717\n",
            "\n",
            "Epoch: [13/100]---src, loss: 1.941702, acc: 0.7000\n",
            "Epoch: [13/100]---val, loss: 1.877130, acc: 0.6553\n",
            "Epoch: [13/100]---tar, loss: 1.877130, acc: 0.6553\n",
            "\n",
            "Epoch: [14/100]---src, loss: 1.883591, acc: 0.6823\n",
            "Epoch: [14/100]---val, loss: 1.827425, acc: 0.6780\n",
            "Epoch: [14/100]---tar, loss: 1.827425, acc: 0.6780\n",
            "\n",
            "Epoch: [15/100]---src, loss: 1.803156, acc: 0.7011\n",
            "Epoch: [15/100]---val, loss: 1.785594, acc: 0.6893\n",
            "Epoch: [15/100]---tar, loss: 1.785594, acc: 0.6893\n",
            "\n",
            "Epoch: [16/100]---src, loss: 1.732554, acc: 0.7107\n",
            "Epoch: [16/100]---val, loss: 1.696913, acc: 0.6994\n",
            "Epoch: [16/100]---tar, loss: 1.696913, acc: 0.6994\n",
            "\n",
            "Epoch: [17/100]---src, loss: 1.668262, acc: 0.7164\n",
            "Epoch: [17/100]---val, loss: 1.677951, acc: 0.6855\n",
            "Epoch: [17/100]---tar, loss: 1.677951, acc: 0.6855\n",
            "\n",
            "Epoch: [18/100]---src, loss: 1.618604, acc: 0.7178\n",
            "Epoch: [18/100]---val, loss: 1.555826, acc: 0.6994\n",
            "Epoch: [18/100]---tar, loss: 1.555826, acc: 0.6994\n",
            "\n",
            "Epoch: [19/100]---src, loss: 1.577875, acc: 0.7071\n",
            "Epoch: [19/100]---val, loss: 1.533016, acc: 0.6830\n",
            "Epoch: [19/100]---tar, loss: 1.533016, acc: 0.6830\n",
            "\n",
            "Epoch: [20/100]---src, loss: 1.515141, acc: 0.7277\n",
            "Epoch: [20/100]---val, loss: 1.485643, acc: 0.6918\n",
            "Epoch: [20/100]---tar, loss: 1.485643, acc: 0.6918\n",
            "\n",
            "Epoch: [21/100]---src, loss: 1.480358, acc: 0.7277\n",
            "Epoch: [21/100]---val, loss: 1.486741, acc: 0.6994\n",
            "Epoch: [21/100]---tar, loss: 1.486741, acc: 0.6994\n",
            "\n",
            "Epoch: [22/100]---src, loss: 1.449234, acc: 0.7192\n",
            "Epoch: [22/100]---val, loss: 1.421291, acc: 0.7283\n",
            "Epoch: [22/100]---tar, loss: 1.421291, acc: 0.7283\n",
            "\n",
            "Epoch: [23/100]---src, loss: 1.421180, acc: 0.7252\n",
            "Epoch: [23/100]---val, loss: 1.392639, acc: 0.7107\n",
            "Epoch: [23/100]---tar, loss: 1.392639, acc: 0.7107\n",
            "\n",
            "Epoch: [24/100]---src, loss: 1.368749, acc: 0.7394\n",
            "Epoch: [24/100]---val, loss: 1.371589, acc: 0.7245\n",
            "Epoch: [24/100]---tar, loss: 1.371589, acc: 0.7245\n",
            "\n",
            "Epoch: [25/100]---src, loss: 1.336385, acc: 0.7394\n",
            "Epoch: [25/100]---val, loss: 1.327756, acc: 0.6981\n",
            "Epoch: [25/100]---tar, loss: 1.327756, acc: 0.6981\n",
            "\n",
            "Epoch: [26/100]---src, loss: 1.319254, acc: 0.7338\n",
            "Epoch: [26/100]---val, loss: 1.290089, acc: 0.7107\n",
            "Epoch: [26/100]---tar, loss: 1.290089, acc: 0.7107\n",
            "\n",
            "Epoch: [27/100]---src, loss: 1.279520, acc: 0.7398\n",
            "Epoch: [27/100]---val, loss: 1.276545, acc: 0.6994\n",
            "Epoch: [27/100]---tar, loss: 1.276545, acc: 0.6994\n",
            "\n",
            "Epoch: [28/100]---src, loss: 1.270148, acc: 0.7433\n",
            "Epoch: [28/100]---val, loss: 1.244745, acc: 0.7119\n",
            "Epoch: [28/100]---tar, loss: 1.244745, acc: 0.7119\n",
            "\n",
            "Epoch: [29/100]---src, loss: 1.226773, acc: 0.7508\n",
            "Epoch: [29/100]---val, loss: 1.278963, acc: 0.7019\n",
            "Epoch: [29/100]---tar, loss: 1.278963, acc: 0.7019\n",
            "\n",
            "Epoch: [30/100]---src, loss: 1.206452, acc: 0.7448\n",
            "Epoch: [30/100]---val, loss: 1.226730, acc: 0.7069\n",
            "Epoch: [30/100]---tar, loss: 1.226730, acc: 0.7069\n",
            "\n",
            "Epoch: [31/100]---src, loss: 1.182059, acc: 0.7508\n",
            "Epoch: [31/100]---val, loss: 1.207150, acc: 0.7157\n",
            "Epoch: [31/100]---tar, loss: 1.207150, acc: 0.7157\n",
            "\n",
            "Epoch: [32/100]---src, loss: 1.152507, acc: 0.7586\n",
            "Epoch: [32/100]---val, loss: 1.178905, acc: 0.7195\n",
            "Epoch: [32/100]---tar, loss: 1.178905, acc: 0.7195\n",
            "\n",
            "Epoch: [33/100]---src, loss: 1.153750, acc: 0.7575\n",
            "Epoch: [33/100]---val, loss: 1.257826, acc: 0.7069\n",
            "Epoch: [33/100]---tar, loss: 1.257826, acc: 0.7069\n",
            "\n",
            "Epoch: [34/100]---src, loss: 1.131077, acc: 0.7650\n",
            "Epoch: [34/100]---val, loss: 1.173237, acc: 0.7057\n",
            "Epoch: [34/100]---tar, loss: 1.173237, acc: 0.7057\n",
            "\n",
            "Epoch: [35/100]---src, loss: 1.125435, acc: 0.7597\n",
            "Epoch: [35/100]---val, loss: 1.137052, acc: 0.7132\n",
            "Epoch: [35/100]---tar, loss: 1.137052, acc: 0.7132\n",
            "\n",
            "Epoch: [36/100]---src, loss: 1.109591, acc: 0.7565\n",
            "Epoch: [36/100]---val, loss: 1.114824, acc: 0.7182\n",
            "Epoch: [36/100]---tar, loss: 1.114824, acc: 0.7182\n",
            "\n",
            "Epoch: [37/100]---src, loss: 1.071017, acc: 0.7650\n",
            "Epoch: [37/100]---val, loss: 1.103189, acc: 0.7107\n",
            "Epoch: [37/100]---tar, loss: 1.103189, acc: 0.7107\n",
            "\n",
            "Epoch: [38/100]---src, loss: 1.077676, acc: 0.7664\n",
            "Epoch: [38/100]---val, loss: 1.114343, acc: 0.7082\n",
            "Epoch: [38/100]---tar, loss: 1.114343, acc: 0.7082\n",
            "\n",
            "Epoch: [39/100]---src, loss: 1.049664, acc: 0.7714\n",
            "Epoch: [39/100]---val, loss: 1.077011, acc: 0.7220\n",
            "Epoch: [39/100]---tar, loss: 1.077011, acc: 0.7220\n",
            "\n",
            "Epoch: [40/100]---src, loss: 1.046944, acc: 0.7760\n",
            "Epoch: [40/100]---val, loss: 1.060736, acc: 0.7170\n",
            "Epoch: [40/100]---tar, loss: 1.060736, acc: 0.7170\n",
            "\n",
            "Epoch: [41/100]---src, loss: 1.020501, acc: 0.7746\n",
            "Epoch: [41/100]---val, loss: 1.045214, acc: 0.7371\n",
            "Epoch: [41/100]---tar, loss: 1.045214, acc: 0.7371\n",
            "\n",
            "Epoch: [42/100]---src, loss: 1.012435, acc: 0.7753\n",
            "Epoch: [42/100]---val, loss: 1.041084, acc: 0.7270\n",
            "Epoch: [42/100]---tar, loss: 1.041084, acc: 0.7270\n",
            "\n",
            "Epoch: [43/100]---src, loss: 1.015922, acc: 0.7732\n",
            "Epoch: [43/100]---val, loss: 1.051687, acc: 0.7220\n",
            "Epoch: [43/100]---tar, loss: 1.051687, acc: 0.7220\n",
            "\n",
            "Epoch: [44/100]---src, loss: 0.989257, acc: 0.7657\n",
            "Epoch: [44/100]---val, loss: 1.000490, acc: 0.7333\n",
            "Epoch: [44/100]---tar, loss: 1.000490, acc: 0.7333\n",
            "\n",
            "Epoch: [45/100]---src, loss: 0.967560, acc: 0.7717\n",
            "Epoch: [45/100]---val, loss: 1.058664, acc: 0.7157\n",
            "Epoch: [45/100]---tar, loss: 1.058664, acc: 0.7157\n",
            "\n",
            "Epoch: [46/100]---src, loss: 0.998524, acc: 0.7629\n",
            "Epoch: [46/100]---val, loss: 1.055564, acc: 0.7094\n",
            "Epoch: [46/100]---tar, loss: 1.055564, acc: 0.7094\n",
            "\n",
            "Epoch: [47/100]---src, loss: 0.956069, acc: 0.7792\n",
            "Epoch: [47/100]---val, loss: 1.035965, acc: 0.7082\n",
            "Epoch: [47/100]---tar, loss: 1.035965, acc: 0.7082\n",
            "\n",
            "Epoch: [48/100]---src, loss: 0.927463, acc: 0.7870\n",
            "Epoch: [48/100]---val, loss: 0.963311, acc: 0.7396\n",
            "Epoch: [48/100]---tar, loss: 0.963311, acc: 0.7396\n",
            "\n",
            "Epoch: [49/100]---src, loss: 0.930370, acc: 0.7760\n",
            "Epoch: [49/100]---val, loss: 1.001410, acc: 0.7270\n",
            "Epoch: [49/100]---tar, loss: 1.001410, acc: 0.7270\n",
            "\n",
            "Epoch: [50/100]---src, loss: 0.922718, acc: 0.7803\n",
            "Epoch: [50/100]---val, loss: 0.974584, acc: 0.7371\n",
            "Epoch: [50/100]---tar, loss: 0.974584, acc: 0.7371\n",
            "\n",
            "Epoch: [51/100]---src, loss: 0.935835, acc: 0.7771\n",
            "Epoch: [51/100]---val, loss: 0.938244, acc: 0.7421\n",
            "Epoch: [51/100]---tar, loss: 0.938244, acc: 0.7421\n",
            "\n",
            "Epoch: [52/100]---src, loss: 0.915674, acc: 0.7859\n",
            "Epoch: [52/100]---val, loss: 0.962968, acc: 0.7333\n",
            "Epoch: [52/100]---tar, loss: 0.962968, acc: 0.7333\n",
            "\n",
            "Epoch: [53/100]---src, loss: 0.903022, acc: 0.7881\n",
            "Epoch: [53/100]---val, loss: 0.982216, acc: 0.7321\n",
            "Epoch: [53/100]---tar, loss: 0.982216, acc: 0.7321\n",
            "\n",
            "Epoch: [54/100]---src, loss: 0.907323, acc: 0.7827\n",
            "Epoch: [54/100]---val, loss: 0.948951, acc: 0.7421\n",
            "Epoch: [54/100]---tar, loss: 0.948951, acc: 0.7421\n",
            "\n",
            "Epoch: [55/100]---src, loss: 0.895497, acc: 0.7835\n",
            "Epoch: [55/100]---val, loss: 0.927658, acc: 0.7409\n",
            "Epoch: [55/100]---tar, loss: 0.927658, acc: 0.7409\n",
            "\n",
            "Epoch: [56/100]---src, loss: 0.856458, acc: 0.8009\n",
            "Epoch: [56/100]---val, loss: 0.997528, acc: 0.7321\n",
            "Epoch: [56/100]---tar, loss: 0.997528, acc: 0.7321\n",
            "\n",
            "Epoch: [57/100]---src, loss: 0.865670, acc: 0.7916\n",
            "Epoch: [57/100]---val, loss: 0.949042, acc: 0.7447\n",
            "Epoch: [57/100]---tar, loss: 0.949042, acc: 0.7447\n",
            "\n",
            "Epoch: [58/100]---src, loss: 0.856595, acc: 0.7948\n",
            "Epoch: [58/100]---val, loss: 0.910786, acc: 0.7409\n",
            "Epoch: [58/100]---tar, loss: 0.910786, acc: 0.7409\n",
            "\n",
            "Epoch: [59/100]---src, loss: 0.857493, acc: 0.7973\n",
            "Epoch: [59/100]---val, loss: 0.928565, acc: 0.7170\n",
            "Epoch: [59/100]---tar, loss: 0.928565, acc: 0.7170\n",
            "\n",
            "Epoch: [60/100]---src, loss: 0.849447, acc: 0.7945\n",
            "Epoch: [60/100]---val, loss: 0.912405, acc: 0.7409\n",
            "Epoch: [60/100]---tar, loss: 0.912405, acc: 0.7409\n",
            "\n",
            "Epoch: [61/100]---src, loss: 0.846466, acc: 0.7945\n",
            "Epoch: [61/100]---val, loss: 0.924515, acc: 0.7296\n",
            "Epoch: [61/100]---tar, loss: 0.924515, acc: 0.7296\n",
            "\n",
            "Epoch: [62/100]---src, loss: 0.848008, acc: 0.7934\n",
            "Epoch: [62/100]---val, loss: 0.874473, acc: 0.7560\n",
            "Epoch: [62/100]---tar, loss: 0.874473, acc: 0.7560\n",
            "\n",
            "Epoch: [63/100]---src, loss: 0.820813, acc: 0.7962\n",
            "Epoch: [63/100]---val, loss: 0.909933, acc: 0.7358\n",
            "Epoch: [63/100]---tar, loss: 0.909933, acc: 0.7358\n",
            "\n",
            "Epoch: [64/100]---src, loss: 0.830707, acc: 0.8030\n",
            "Epoch: [64/100]---val, loss: 0.881699, acc: 0.7296\n",
            "Epoch: [64/100]---tar, loss: 0.881699, acc: 0.7296\n",
            "\n",
            "Epoch: [65/100]---src, loss: 0.822340, acc: 0.7927\n",
            "Epoch: [65/100]---val, loss: 0.892641, acc: 0.7384\n",
            "Epoch: [65/100]---tar, loss: 0.892641, acc: 0.7384\n",
            "\n",
            "Epoch: [66/100]---src, loss: 0.811037, acc: 0.7952\n",
            "Epoch: [66/100]---val, loss: 0.903222, acc: 0.7283\n",
            "Epoch: [66/100]---tar, loss: 0.903222, acc: 0.7283\n",
            "\n",
            "Epoch: [67/100]---src, loss: 0.810717, acc: 0.7969\n",
            "Epoch: [67/100]---val, loss: 0.895252, acc: 0.7208\n",
            "Epoch: [67/100]---tar, loss: 0.895252, acc: 0.7208\n",
            "\n",
            "Epoch: [68/100]---src, loss: 0.799474, acc: 0.8101\n",
            "Epoch: [68/100]---val, loss: 0.863010, acc: 0.7484\n",
            "Epoch: [68/100]---tar, loss: 0.863010, acc: 0.7484\n",
            "\n",
            "Epoch: [69/100]---src, loss: 0.803746, acc: 0.8030\n",
            "Epoch: [69/100]---val, loss: 0.895191, acc: 0.7195\n",
            "Epoch: [69/100]---tar, loss: 0.895191, acc: 0.7195\n",
            "\n",
            "Epoch: [70/100]---src, loss: 0.787160, acc: 0.8051\n",
            "Epoch: [70/100]---val, loss: 0.880890, acc: 0.7308\n",
            "Epoch: [70/100]---tar, loss: 0.880890, acc: 0.7308\n",
            "\n",
            "Epoch: [71/100]---src, loss: 0.794365, acc: 0.8048\n",
            "Epoch: [71/100]---val, loss: 0.853147, acc: 0.7421\n",
            "Epoch: [71/100]---tar, loss: 0.853147, acc: 0.7421\n",
            "\n",
            "Epoch: [72/100]---src, loss: 0.792585, acc: 0.7984\n",
            "Epoch: [72/100]---val, loss: 0.904508, acc: 0.7132\n",
            "Epoch: [72/100]---tar, loss: 0.904508, acc: 0.7132\n",
            "\n",
            "Epoch: [73/100]---src, loss: 0.798785, acc: 0.7991\n",
            "Epoch: [73/100]---val, loss: 0.851140, acc: 0.7447\n",
            "Epoch: [73/100]---tar, loss: 0.851140, acc: 0.7447\n",
            "\n",
            "Epoch: [74/100]---src, loss: 0.792602, acc: 0.7962\n",
            "Epoch: [74/100]---val, loss: 0.863207, acc: 0.7409\n",
            "Epoch: [74/100]---tar, loss: 0.863207, acc: 0.7409\n",
            "\n",
            "Epoch: [75/100]---src, loss: 0.757563, acc: 0.8147\n",
            "Epoch: [75/100]---val, loss: 0.848498, acc: 0.7409\n",
            "Epoch: [75/100]---tar, loss: 0.848498, acc: 0.7409\n",
            "\n",
            "Epoch: [76/100]---src, loss: 0.775495, acc: 0.8094\n",
            "Epoch: [76/100]---val, loss: 0.833761, acc: 0.7497\n",
            "Epoch: [76/100]---tar, loss: 0.833761, acc: 0.7497\n",
            "\n",
            "Epoch: [77/100]---src, loss: 0.768863, acc: 0.8001\n",
            "Epoch: [77/100]---val, loss: 0.851308, acc: 0.7421\n",
            "Epoch: [77/100]---tar, loss: 0.851308, acc: 0.7421\n",
            "\n",
            "Epoch: [78/100]---src, loss: 0.759413, acc: 0.8087\n",
            "Epoch: [78/100]---val, loss: 0.882351, acc: 0.7333\n",
            "Epoch: [78/100]---tar, loss: 0.882351, acc: 0.7333\n",
            "\n",
            "Epoch: [79/100]---src, loss: 0.760846, acc: 0.8062\n",
            "Epoch: [79/100]---val, loss: 0.830963, acc: 0.7434\n",
            "Epoch: [79/100]---tar, loss: 0.830963, acc: 0.7434\n",
            "\n",
            "Epoch: [80/100]---src, loss: 0.757023, acc: 0.8101\n",
            "Epoch: [80/100]---val, loss: 0.826237, acc: 0.7497\n",
            "Epoch: [80/100]---tar, loss: 0.826237, acc: 0.7497\n",
            "\n",
            "Epoch: [81/100]---src, loss: 0.742226, acc: 0.8136\n",
            "Epoch: [81/100]---val, loss: 0.841992, acc: 0.7459\n",
            "Epoch: [81/100]---tar, loss: 0.841992, acc: 0.7459\n",
            "\n",
            "Epoch: [82/100]---src, loss: 0.734192, acc: 0.8104\n",
            "Epoch: [82/100]---val, loss: 0.823919, acc: 0.7409\n",
            "Epoch: [82/100]---tar, loss: 0.823919, acc: 0.7409\n",
            "Training complete in 12m 43s\n"
          ]
        }
      ],
      "source": [
        "# TODO: fine-tuning function 호출하여 학습 진행\n",
        "\n",
        "finetune(model, dataloaders, optimizer)"
      ]
    },
    {
      "cell_type": "code",
      "execution_count": 13,
      "metadata": {
        "id": "GR5Y1x4btm4y"
      },
      "outputs": [],
      "source": [
        "def test(model, target_test_loader):\n",
        "    model.eval()\n",
        "    correct = 0\n",
        "    len_target_dataset = len(target_test_loader.dataset)\n",
        "    with torch.no_grad():\n",
        "        for data, target in target_test_loader:\n",
        "            data, target = data.cuda(), target.cuda()\n",
        "            s_output = model.predict(data)\n",
        "            pred = torch.max(s_output, 1)[1]\n",
        "            correct += torch.sum(pred == target)\n",
        "    acc = correct.double() / len(target_test_loader.dataset)\n",
        "    return acc"
      ]
    },
    {
      "cell_type": "code",
      "execution_count": 14,
      "metadata": {
        "id": "1O2CBxmxtm4y"
      },
      "outputs": [
        {
          "name": "stdout",
          "output_type": "stream",
          "text": [
            "Test accuracy: 0.7559748427672955\n"
          ]
        }
      ],
      "source": [
        "model.load_state_dict(torch.load('model.pkl'))\n",
        "acc_test = test(model, dataloaders['tar'])\n",
        "print(f'Test accuracy: {acc_test}')"
      ]
    },
    {
      "cell_type": "markdown",
      "metadata": {
        "id": "I7Iuk_Mitm4z"
      },
      "source": [
        "여기까지가 fine-tuning 파트입니다. 실제 학습에서는 learning rate decay 같은 기법도 사용하지만, 이 과제에서는 그것이 핵심이 아니므로 생략합니다.\n",
        "\n",
        "이제 같은 dataloader를 그대로 활용해서 domain adaptation 실험을 이어가봅시다."
      ]
    },
    {
      "cell_type": "markdown",
      "metadata": {
        "id": "bO4c_QcGtm4z"
      },
      "source": [
        "# Domain Adaptation"
      ]
    },
    {
      "cell_type": "markdown",
      "metadata": {
        "id": "VJwcwLQftm40"
      },
      "source": [
        "Domain adaptation의 핵심 구조는 fine-tuning과 매우 비슷하지만,\n",
        "두 도메인 간 분포 차이를 줄이기 위한 loss function을 추가해야 합니다.\n",
        "\n",
        "여기서는 MMD와 Coral loss를 사용해 두 도메인 간 분포 차이를 계산하는 loss function을 정의합니다. \n",
        "\n",
        "해당 loss를 이용할 수 있도록 새로운 모델 클래스를 정의하고 source의 feature와 label, 그리고 target feature를 모두 이용하도록 학습 스크립트를 수정해봅시다."
      ]
    },
    {
      "cell_type": "markdown",
      "metadata": {
        "id": "Jy_1xwdJtm40"
      },
      "source": [
        "### Loss function\n",
        "Domain Adaptation에서 가장 많이 사용되는 손실 함수는 MMD (Maximum Mean Discrepancy)입니다.\n",
        "\n",
        "비교를 위해 또 다른 대표적인 손실 함수인 CORAL (CORrelation ALignment)도 함께 살펴봅니다."
      ]
    },
    {
      "cell_type": "markdown",
      "metadata": {
        "id": "z3-wKorUtm40"
      },
      "source": [
        "#### MMD loss"
      ]
    },
    {
      "cell_type": "code",
      "execution_count": 15,
      "metadata": {
        "id": "MpQH6VFwtm41"
      },
      "outputs": [],
      "source": [
        "class MMD_loss(nn.Module):\n",
        "    def __init__(self, kernel_type='rbf', kernel_mul=2.0, kernel_num=5):\n",
        "        super(MMD_loss, self).__init__()\n",
        "        self.kernel_num = kernel_num\n",
        "        self.kernel_mul = kernel_mul\n",
        "        self.fix_sigma = None\n",
        "        self.kernel_type = kernel_type\n",
        "\n",
        "    def guassian_kernel(self, source, target, kernel_mul=2.0, kernel_num=5, fix_sigma=None):\n",
        "        n_samples = int(source.size()[0]) + int(target.size()[0])\n",
        "        total = torch.cat([source, target], dim=0)\n",
        "        total0 = total.unsqueeze(0).expand(\n",
        "            int(total.size(0)), int(total.size(0)), int(total.size(1)))\n",
        "        total1 = total.unsqueeze(1).expand(\n",
        "            int(total.size(0)), int(total.size(0)), int(total.size(1)))\n",
        "        L2_distance = ((total0-total1)**2).sum(2)\n",
        "        if fix_sigma:\n",
        "            bandwidth = fix_sigma\n",
        "        else:\n",
        "            bandwidth = torch.sum(L2_distance.data) / (n_samples**2-n_samples)\n",
        "        bandwidth /= kernel_mul ** (kernel_num // 2)\n",
        "        bandwidth_list = [bandwidth * (kernel_mul**i)\n",
        "                          for i in range(kernel_num)]\n",
        "        kernel_val = [torch.exp(-L2_distance / bandwidth_temp)\n",
        "                      for bandwidth_temp in bandwidth_list]\n",
        "        return sum(kernel_val)\n",
        "\n",
        "    def linear_mmd2(self, f_of_X, f_of_Y):\n",
        "        loss = 0.0\n",
        "        delta = f_of_X.float().mean(0) - f_of_Y.float().mean(0)\n",
        "        loss = delta.dot(delta.T)\n",
        "        return loss\n",
        "\n",
        "    def forward(self, source, target):\n",
        "        if self.kernel_type == 'linear':\n",
        "            return self.linear_mmd2(source, target)\n",
        "        elif self.kernel_type == 'rbf':\n",
        "            batch_size = int(source.size()[0])\n",
        "            kernels = self.guassian_kernel(\n",
        "                source, target, kernel_mul=self.kernel_mul, kernel_num=self.kernel_num, fix_sigma=self.fix_sigma)\n",
        "            XX = torch.mean(kernels[:batch_size, :batch_size])\n",
        "            YY = torch.mean(kernels[batch_size:, batch_size:])\n",
        "            XY = torch.mean(kernels[:batch_size, batch_size:])\n",
        "            YX = torch.mean(kernels[batch_size:, :batch_size])\n",
        "            loss = torch.mean(XX + YY - XY - YX)\n",
        "            return loss\n"
      ]
    },
    {
      "cell_type": "markdown",
      "metadata": {
        "id": "NcfUy_2Dtm41"
      },
      "source": [
        "#### CORAL loss"
      ]
    },
    {
      "cell_type": "code",
      "execution_count": 16,
      "metadata": {
        "id": "uZhKJq15tm41"
      },
      "outputs": [],
      "source": [
        "def CORAL(source, target):\n",
        "    d = source.size(1)\n",
        "    ns, nt = source.size(0), target.size(0)\n",
        "\n",
        "    # source covariance\n",
        "    tmp_s = torch.ones((1, ns)).cuda() @ source\n",
        "    cs = (source.t() @ source - (tmp_s.t() @ tmp_s) / ns) / (ns - 1)\n",
        "\n",
        "    # target covariance\n",
        "    tmp_t = torch.ones((1, nt)).cuda() @ target\n",
        "    ct = (target.t() @ target - (tmp_t.t() @ tmp_t) / nt) / (nt - 1)\n",
        "\n",
        "    # frobenius norm\n",
        "    loss = (cs - ct).pow(2).sum().sqrt()\n",
        "    loss = loss / (4 * d * d)\n",
        "\n",
        "    return loss"
      ]
    },
    {
      "cell_type": "markdown",
      "metadata": {
        "id": "VB2cDp8Gtm41"
      },
      "source": [
        "### Model\n",
        "여기서도 backbone으로는 ResNet-50을 사용합니다.\n",
        "다만 이번에는 ResNet-50의 마지막 classifier layer를 제거한 feature extractor로 사용합니다."
      ]
    },
    {
      "cell_type": "code",
      "execution_count": 17,
      "metadata": {
        "id": "UOLx_OSxtm41"
      },
      "outputs": [],
      "source": [
        "from torchvision import models\n",
        "class ResNet50Fc(nn.Module):\n",
        "    def __init__(self):\n",
        "        super(ResNet50Fc, self).__init__()\n",
        "        model_resnet50 = models.resnet50(pretrained=True)\n",
        "        self.conv1 = model_resnet50.conv1\n",
        "        self.bn1 = model_resnet50.bn1\n",
        "        self.relu = model_resnet50.relu\n",
        "        self.maxpool = model_resnet50.maxpool\n",
        "        self.layer1 = model_resnet50.layer1\n",
        "        self.layer2 = model_resnet50.layer2\n",
        "        self.layer3 = model_resnet50.layer3\n",
        "        self.layer4 = model_resnet50.layer4\n",
        "        self.avgpool = model_resnet50.avgpool\n",
        "        self.__in_features = model_resnet50.fc.in_features\n",
        "\n",
        "    def forward(self, x):\n",
        "        x = self.conv1(x)\n",
        "        x = self.bn1(x)\n",
        "        x = self.relu(x)\n",
        "        x = self.maxpool(x)\n",
        "        x = self.layer1(x)\n",
        "        x = self.layer2(x)\n",
        "        x = self.layer3(x)\n",
        "        x = self.layer4(x)\n",
        "        x = self.avgpool(x)\n",
        "        x = x.view(x.size(0), -1)\n",
        "        return x\n",
        "\n",
        "    def output_num(self):\n",
        "        return self.__in_features"
      ]
    },
    {
      "cell_type": "markdown",
      "metadata": {
        "id": "IRgdNM3Wtm42"
      },
      "source": [
        "이제 Domain Adaptation을 위한 핵심 모델 클래스를 정의합니다.\n",
        "\n",
        "ResNet-50을 기반으로 하되, bottleneck layer와 새로운 fc layer를 추가합니다.\n",
        "\n",
        "중요한 점은 adapt_loss 함수로 우리가 정의한 MMD 또는 CORAL loss를 forward pass에서 함께 계산한다는 것입니다."
      ]
    },
    {
      "cell_type": "code",
      "execution_count": 30,
      "metadata": {
        "id": "oC5NKJpJtm42"
      },
      "outputs": [],
      "source": [
        "class TransferNet(nn.Module):\n",
        "    def __init__(self,\n",
        "                 num_class, \n",
        "                 base_net='resnet50', \n",
        "                 transfer_loss='mmd', \n",
        "                 use_bottleneck=True, \n",
        "                 bottleneck_width=256, \n",
        "                 width=1024):\n",
        "        super(TransferNet, self).__init__()\n",
        "        if base_net == 'resnet50':\n",
        "            # TODO: ResNet50 기반 feature extractor를 정의\n",
        "            resnet = models.resnet50(pretrained=True)\n",
        "            self.base_network = nn.Sequential(*list(resnet.children())[:-1])  # 마지막 fc 제거\n",
        "            self.feature_dim = resnet.fc.in_features  # 2048\n",
        "        else:\n",
        "            # Your own basenet\n",
        "            return\n",
        "        self.use_bottleneck = use_bottleneck\n",
        "        self.transfer_loss = transfer_loss\n",
        "        bottleneck_list = [] # TODO: bottleneck layer를 정의\n",
        "        if self.use_bottleneck:\n",
        "            bottleneck_list = [\n",
        "                nn.Linear(self.feature_dim, bottleneck_width),\n",
        "                nn.BatchNorm1d(bottleneck_width),\n",
        "                nn.ReLU()\n",
        "            ]\n",
        "            classifier_input_dim = bottleneck_width\n",
        "        else:\n",
        "            classifier_input_dim = self.feature_dim\n",
        "\n",
        "        self.bottleneck_layer = nn.Sequential(*bottleneck_list)\n",
        "        classifier_layer_list = [\n",
        "            nn.Linear(classifier_input_dim, width),\n",
        "            nn.BatchNorm1d(width),\n",
        "            nn.ReLU(),\n",
        "            nn.Linear(width, num_class)\n",
        "        ] # TODO: classifier layer를 정의\n",
        "        self.classifier_layer = nn.Sequential(*classifier_layer_list)\n",
        "\n",
        "        self.bottleneck_layer[0].weight.data.normal_(0, 0.005)\n",
        "        self.bottleneck_layer[0].bias.data.fill_(0.1)\n",
        "        for i in range(2):\n",
        "            self.classifier_layer[i * 3].weight.data.normal_(0, 0.01)\n",
        "            self.classifier_layer[i * 3].bias.data.fill_(0.0)\n",
        "\n",
        "    def forward(self, source, target):\n",
        "        source = self.base_network(source)\n",
        "        target = self.base_network(target)\n",
        "\n",
        "        source = source.view(source.size(0), -1)\n",
        "        target = target.view(target.size(0), -1)\n",
        "        \n",
        "        if self.use_bottleneck:\n",
        "            source = self.bottleneck_layer(source)\n",
        "            target = self.bottleneck_layer(target)\n",
        "\n",
        "        source_clf = self.classifier_layer(source)\n",
        "        \n",
        "        transfer_loss = self.adapt_loss(source, target, self.transfer_loss)\n",
        "        return source_clf, transfer_loss\n",
        "\n",
        "    def predict(self, x):\n",
        "        features = self.base_network(x)\n",
        "        features = features.view(features.size(0), -1)\n",
        "\n",
        "        if self.use_bottleneck:\n",
        "            features = self.bottleneck_layer(features)\n",
        "\n",
        "        clf = self.classifier_layer(features)\n",
        "        return clf\n",
        "\n",
        "    def adapt_loss(self, X, Y, adapt_loss):\n",
        "        \"\"\"Compute adaptation loss, currently we support mmd and coral\n",
        "\n",
        "        Arguments:\n",
        "            X {tensor} -- source matrix\n",
        "            Y {tensor} -- target matrix\n",
        "            adapt_loss {string} -- loss type, 'mmd' or 'coral'. You can add your own loss\n",
        "\n",
        "        Returns:\n",
        "            [tensor] -- adaptation loss tensor\n",
        "        \"\"\"\n",
        "        if adapt_loss == 'mmd':\n",
        "            mmd_loss = MMD_loss()\n",
        "            loss = mmd_loss(X, Y)\n",
        "        elif adapt_loss == 'coral':\n",
        "            loss = CORAL(X, Y)\n",
        "        else:\n",
        "            # Your own loss\n",
        "            loss = 0\n",
        "        return loss"
      ]
    },
    {
      "cell_type": "markdown",
      "metadata": {
        "id": "hAdPs27btm42"
      },
      "source": [
        "### Train\n",
        "이제 Domain Adaptation 모델을 학습시켜 봅시다."
      ]
    },
    {
      "cell_type": "code",
      "execution_count": 31,
      "metadata": {
        "id": "OK6P8uMDtm42"
      },
      "outputs": [],
      "source": [
        "transfer_loss = 'mmd'\n",
        "learning_rate = 0.0001\n",
        "transfer_model = TransferNet(n_class, transfer_loss=transfer_loss, base_net='resnet50').cuda()\n",
        "optimizer = torch.optim.SGD([\n",
        "    {'params': transfer_model.base_network.parameters()},\n",
        "    {'params': transfer_model.bottleneck_layer.parameters(), 'lr': 10 * learning_rate},\n",
        "    {'params': transfer_model.classifier_layer.parameters(), 'lr': 10 * learning_rate},\n",
        "], lr=learning_rate, momentum=0.9, weight_decay=5e-4)\n",
        "lamb = 10 # weight for transfer loss, it is a hyperparameter that needs to be tuned"
      ]
    },
    {
      "cell_type": "markdown",
      "metadata": {
        "id": "4WpUfcHItm42"
      },
      "source": [
        "학습 함수에서는 source 데이터와 label, target 데이터를 모두 사용해야 하므로, source와 target의 dataloader를 zip으로 묶어서 동시에 iterate합니다.\n",
        "\n",
        "보통 두 도메인의 샘플 수는 다르기 때문에, 여러 epoch에 걸쳐 무작위로 잘 섞이면 전체 데이터를 충분히 학습할 수 있습니다."
      ]
    },
    {
      "cell_type": "code",
      "execution_count": 32,
      "metadata": {
        "id": "AGlVNI2ktm42"
      },
      "outputs": [],
      "source": [
        "def train(dataloaders, model, optimizer):\n",
        "    source_loader, target_train_loader, target_test_loader = dataloaders['src'], dataloaders['val'], dataloaders['tar']\n",
        "    len_source_loader = len(source_loader)\n",
        "    len_target_loader = len(target_train_loader)\n",
        "    best_acc = 0\n",
        "    stop = 0\n",
        "    n_batch = min(len_source_loader, len_target_loader)\n",
        "    for e in range(n_epoch):\n",
        "        stop += 1\n",
        "        train_loss_clf, train_loss_transfer, train_loss_total = 0, 0, 0\n",
        "        model.train()\n",
        "        for (src, tar) in zip(source_loader, target_train_loader):\n",
        "            data_source, label_source = src\n",
        "            data_target, _ = tar\n",
        "            data_source, label_source = data_source.cuda(), label_source.cuda()\n",
        "            data_target = data_target.cuda()\n",
        "\n",
        "            optimizer.zero_grad()\n",
        "            label_source_pred, transfer_loss = model(data_source, data_target)\n",
        "            clf_loss = criterion(label_source_pred, label_source)\n",
        "            loss = clf_loss + lamb * transfer_loss\n",
        "            loss.backward()\n",
        "            optimizer.step()\n",
        "            train_loss_clf = clf_loss.detach().item() + train_loss_clf\n",
        "            train_loss_transfer = transfer_loss.detach().item() + train_loss_transfer\n",
        "            train_loss_total = loss.detach().item() + train_loss_total\n",
        "        acc = test(model, target_test_loader)\n",
        "        print(f'Epoch: [{e:2d}/{n_epoch}], cls_loss: {train_loss_clf/n_batch:.4f}, transfer_loss: {train_loss_transfer/n_batch:.4f}, total_Loss: {train_loss_total/n_batch:.4f}, acc: {acc:.4f}')\n",
        "        if best_acc < acc:\n",
        "            best_acc = acc\n",
        "            torch.save(model.state_dict(), 'trans_model.pkl')\n",
        "            stop = 0\n",
        "        if stop >= early_stop:\n",
        "            break"
      ]
    },
    {
      "cell_type": "code",
      "execution_count": 33,
      "metadata": {
        "id": "nqSCG6-Xtm43",
        "scrolled": true
      },
      "outputs": [
        {
          "name": "stdout",
          "output_type": "stream",
          "text": [
            "Epoch: [ 0/100], cls_loss: 3.0810, transfer_loss: 0.1329, total_Loss: 4.4099, acc: 0.3811\n",
            "Epoch: [ 1/100], cls_loss: 2.2662, transfer_loss: 0.1287, total_Loss: 3.5527, acc: 0.5686\n",
            "Epoch: [ 2/100], cls_loss: 1.6563, transfer_loss: 0.1246, total_Loss: 2.9022, acc: 0.6075\n",
            "Epoch: [ 3/100], cls_loss: 1.4029, transfer_loss: 0.1211, total_Loss: 2.6137, acc: 0.6340\n",
            "Epoch: [ 4/100], cls_loss: 1.2157, transfer_loss: 0.1197, total_Loss: 2.4127, acc: 0.6679\n",
            "Epoch: [ 5/100], cls_loss: 1.0879, transfer_loss: 0.1184, total_Loss: 2.2721, acc: 0.6780\n",
            "Epoch: [ 6/100], cls_loss: 1.0292, transfer_loss: 0.1170, total_Loss: 2.1988, acc: 0.6616\n",
            "Epoch: [ 7/100], cls_loss: 0.8891, transfer_loss: 0.1165, total_Loss: 2.0538, acc: 0.6969\n",
            "Epoch: [ 8/100], cls_loss: 0.8400, transfer_loss: 0.1137, total_Loss: 1.9771, acc: 0.6855\n",
            "Epoch: [ 9/100], cls_loss: 0.8010, transfer_loss: 0.1130, total_Loss: 1.9312, acc: 0.6830\n",
            "Epoch: [10/100], cls_loss: 0.7525, transfer_loss: 0.1114, total_Loss: 1.8670, acc: 0.6981\n",
            "Epoch: [11/100], cls_loss: 0.7853, transfer_loss: 0.1101, total_Loss: 1.8858, acc: 0.7006\n",
            "Epoch: [12/100], cls_loss: 0.7339, transfer_loss: 0.1063, total_Loss: 1.7968, acc: 0.6956\n",
            "Epoch: [13/100], cls_loss: 0.6695, transfer_loss: 0.1034, total_Loss: 1.7036, acc: 0.7031\n",
            "Epoch: [14/100], cls_loss: 0.6950, transfer_loss: 0.1024, total_Loss: 1.7189, acc: 0.6956\n",
            "Epoch: [15/100], cls_loss: 0.6690, transfer_loss: 0.0997, total_Loss: 1.6656, acc: 0.6528\n",
            "Epoch: [16/100], cls_loss: 0.6426, transfer_loss: 0.0961, total_Loss: 1.6031, acc: 0.6855\n",
            "Epoch: [17/100], cls_loss: 0.6316, transfer_loss: 0.0918, total_Loss: 1.5494, acc: 0.6893\n",
            "Epoch: [18/100], cls_loss: 0.6759, transfer_loss: 0.0930, total_Loss: 1.6059, acc: 0.6893\n",
            "Epoch: [19/100], cls_loss: 0.6878, transfer_loss: 0.0919, total_Loss: 1.6067, acc: 0.6780\n",
            "Epoch: [20/100], cls_loss: 0.6213, transfer_loss: 0.0851, total_Loss: 1.4728, acc: 0.6830\n",
            "Epoch: [21/100], cls_loss: 0.5923, transfer_loss: 0.0859, total_Loss: 1.4516, acc: 0.6956\n",
            "Epoch: [22/100], cls_loss: 0.5786, transfer_loss: 0.0842, total_Loss: 1.4204, acc: 0.6868\n",
            "Epoch: [23/100], cls_loss: 0.6321, transfer_loss: 0.0860, total_Loss: 1.4922, acc: 0.6692\n",
            "Epoch: [24/100], cls_loss: 0.6399, transfer_loss: 0.0819, total_Loss: 1.4590, acc: 0.6679\n",
            "Epoch: [25/100], cls_loss: 0.6203, transfer_loss: 0.0817, total_Loss: 1.4374, acc: 0.6642\n",
            "Epoch: [26/100], cls_loss: 0.5881, transfer_loss: 0.0926, total_Loss: 1.5146, acc: 0.6767\n",
            "Epoch: [27/100], cls_loss: 0.5386, transfer_loss: 0.0825, total_Loss: 1.3638, acc: 0.6352\n",
            "Epoch: [28/100], cls_loss: 0.6142, transfer_loss: 0.0792, total_Loss: 1.4061, acc: 0.6767\n",
            "Epoch: [29/100], cls_loss: 0.5174, transfer_loss: 0.0748, total_Loss: 1.2654, acc: 0.6277\n",
            "Epoch: [30/100], cls_loss: 0.4281, transfer_loss: 0.0706, total_Loss: 1.1338, acc: 0.6629\n",
            "Epoch: [31/100], cls_loss: 0.4654, transfer_loss: 0.0721, total_Loss: 1.1860, acc: 0.6604\n",
            "Epoch: [32/100], cls_loss: 0.5483, transfer_loss: 0.0739, total_Loss: 1.2877, acc: 0.6365\n",
            "Epoch: [33/100], cls_loss: 0.5255, transfer_loss: 0.0676, total_Loss: 1.2010, acc: 0.6465\n"
          ]
        }
      ],
      "source": [
        "# TODO: Domain Adaptation 모델을 학습시키는 함수를 호출하여 학습 진행\n",
        "\n",
        "train(dataloaders, transfer_model, optimizer)"
      ]
    },
    {
      "cell_type": "code",
      "execution_count": 34,
      "metadata": {
        "id": "yWvYODRDtm43"
      },
      "outputs": [
        {
          "name": "stdout",
          "output_type": "stream",
          "text": [
            "Test accuracy: 0.7031446540880503\n"
          ]
        }
      ],
      "source": [
        "transfer_model.load_state_dict(torch.load('trans_model.pkl'))\n",
        "acc_test = test(transfer_model, dataloaders['tar'])\n",
        "print(f'Test accuracy: {acc_test}')"
      ]
    }
  ],
  "metadata": {
    "colab": {
      "collapsed_sections": [],
      "name": "deep_transfer_tutorial.ipynb",
      "provenance": []
    },
    "kernelspec": {
      "display_name": "base",
      "language": "python",
      "name": "python3"
    },
    "language_info": {
      "codemirror_mode": {
        "name": "ipython",
        "version": 3
      },
      "file_extension": ".py",
      "mimetype": "text/x-python",
      "name": "python",
      "nbconvert_exporter": "python",
      "pygments_lexer": "ipython3",
      "version": "3.12.2"
    }
  },
  "nbformat": 4,
  "nbformat_minor": 0
}
